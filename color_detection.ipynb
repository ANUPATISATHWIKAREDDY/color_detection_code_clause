{
  "nbformat": 4,
  "nbformat_minor": 0,
  "metadata": {
    "colab": {
      "provenance": []
    },
    "kernelspec": {
      "name": "python3",
      "display_name": "Python 3"
    },
    "language_info": {
      "name": "python"
    }
  },
  "cells": [
    {
      "cell_type": "code",
      "execution_count": null,
      "metadata": {
        "id": "_zjGUMbuuzGY"
      },
      "outputs": [],
      "source": [
        "import cv2\n",
        "import pandas as pd"
      ]
    },
    {
      "cell_type": "code",
      "source": [
        "img_path = 'pic2.jpg'\n",
        "csv_path = 'colors.csv'"
      ],
      "metadata": {
        "id": "XG5DwhIRMUJ_"
      },
      "execution_count": null,
      "outputs": []
    },
    {
      "cell_type": "code",
      "source": [
        "index = ['color', 'color_name', 'hex', 'R', 'G', 'B']\n",
        "df = pd.read_csv(csv_path, names=index, header=None)\n"
      ],
      "metadata": {
        "id": "u9n-NyodMV4z"
      },
      "execution_count": null,
      "outputs": []
    },
    {
      "cell_type": "code",
      "source": [
        "img = cv2.imread(img_path)\n",
        "img = cv2.resize(img, (800,600))\n"
      ],
      "metadata": {
        "id": "Nz16vNHKMYBO"
      },
      "execution_count": null,
      "outputs": []
    },
    {
      "cell_type": "code",
      "source": [
        "clicked = False\n",
        "r = g = b = xpos = ypos = 0\n"
      ],
      "metadata": {
        "id": "zwgGmoucMaps"
      },
      "execution_count": null,
      "outputs": []
    },
    {
      "cell_type": "code",
      "source": [
        "def get_color_name(R,G,B):\n",
        "\tminimum = 1000\n",
        "\tfor i in range(len(df)):\n",
        "\t\td = abs(R - int(df.loc[i,'R'])) + abs(G - int(df.loc[i,'G'])) + abs(B - int(df.loc[i,'B']))\n",
        "\t\tif d <= minimum:\n",
        "\t\t\tminimum = d\n",
        "\t\t\tcname = df.loc[i, 'color_name']\n",
        "\treturn cname\n"
      ],
      "metadata": {
        "id": "K2lu-EWJMcTH"
      },
      "execution_count": null,
      "outputs": []
    },
    {
      "cell_type": "code",
      "source": [
        "def draw_function(event, x, y, flags, params):\n",
        "\tif event == cv2.EVENT_LBUTTONDBLCLK:\n",
        "\t\tglobal b, g, r, xpos, ypos, clicked\n",
        "\t\tclicked = True\n",
        "\t\txpos = x\n",
        "\t\typos = y\n",
        "\t\tb,g,r = img[y,x]\n",
        "\t\tb = int(b)\n",
        "\t\tg = int(g)\n",
        "\t\tr = int(r)"
      ],
      "metadata": {
        "id": "Pk1uwaAfMdPr"
      },
      "execution_count": null,
      "outputs": []
    },
    {
      "cell_type": "code",
      "source": [
        "cv2.namedWindow('image')\n",
        "cv2.setMouseCallback('image', draw_function)\n"
      ],
      "metadata": {
        "id": "PgGyDPy1MhEa"
      },
      "execution_count": null,
      "outputs": []
    },
    {
      "cell_type": "code",
      "source": [
        "while True:\n",
        "\tcv2.imshow('image', img)\n",
        "\tif clicked:\n",
        "\t\t#cv2.rectangle(image, startpoint, endpoint, color, thickness)-1 fills entire rectangle\n",
        "\t\tcv2.rectangle(img, (20,20), (600,60), (b,g,r), -1)\n",
        "\n",
        "\t\t#Creating text string to display( Color name and RGB values )\n",
        "\t\ttext = get_color_name(r,g,b) + ' R=' + str(r) + ' G=' + str(g) + ' B=' + str(b)\n",
        "\t\t#cv2.putText(img,text,start,font(0-7),fontScale,color,thickness,lineType )\n",
        "\t\tcv2.putText(img, text, (50,50), 2,0.8, (255,255,255),2,cv2.LINE_AA)\n",
        "\n",
        "\t\t#For very light colours we will display text in black colour\n",
        "\t\tif r+g+b >=600:\n",
        "\t\t\tcv2.putText(img, text, (50,50), 2,0.8, (0,0,0),2,cv2.LINE_AA)\n",
        "\n",
        "\tif cv2.waitKey(20) & 0xFF == 27:\n",
        "\t\tbreak\n"
      ],
      "metadata": {
        "id": "AIXsYXrzMln8"
      },
      "execution_count": null,
      "outputs": []
    },
    {
      "cell_type": "code",
      "source": [
        "cv2.destroyAllWindows()"
      ],
      "metadata": {
        "id": "xnGTxX8HMnQd"
      },
      "execution_count": null,
      "outputs": []
    }
  ]
}